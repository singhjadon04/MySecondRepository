{
 "cells": [
  {
   "cell_type": "code",
   "execution_count": 9,
   "id": "662383a2",
   "metadata": {},
   "outputs": [],
   "source": [
    "#how to create string in single quote,dounble quote,tripple quotes"
   ]
  },
  {
   "cell_type": "code",
   "execution_count": 8,
   "id": "5f71cceb",
   "metadata": {},
   "outputs": [],
   "source": [
    "str1='this is my first string'otes\n",
    "str1='this is my first string'"
   ]
  },
  {
   "cell_type": "code",
   "execution_count": 2,
   "id": "ce40f323",
   "metadata": {},
   "outputs": [
    {
     "data": {
      "text/plain": [
       "'this is my first string'"
      ]
     },
     "execution_count": 2,
     "metadata": {},
     "output_type": "execute_result"
    }
   ],
   "source": [
    "str1"
   ]
  },
  {
   "cell_type": "code",
   "execution_count": 3,
   "id": "483be20c",
   "metadata": {},
   "outputs": [],
   "source": [
    "str2=\"this is my third string\""
   ]
  },
  {
   "cell_type": "code",
   "execution_count": 4,
   "id": "2c988f03",
   "metadata": {},
   "outputs": [
    {
     "data": {
      "text/plain": [
       "'this is my third string'"
      ]
     },
     "execution_count": 4,
     "metadata": {},
     "output_type": "execute_result"
    }
   ],
   "source": [
    "str2"
   ]
  },
  {
   "cell_type": "code",
   "execution_count": 5,
   "id": "ef2f0603",
   "metadata": {},
   "outputs": [],
   "source": [
    "str3='''this string has \n",
    "lot of lines\n",
    "i know it'''"
   ]
  },
  {
   "cell_type": "code",
   "execution_count": 6,
   "id": "cb46c544",
   "metadata": {},
   "outputs": [
    {
     "data": {
      "text/plain": [
       "'this string has \\nlot of lines\\ni know it'"
      ]
     },
     "execution_count": 6,
     "metadata": {},
     "output_type": "execute_result"
    }
   ],
   "source": [
    "str3"
   ]
  },
  {
   "cell_type": "code",
   "execution_count": 11,
   "id": "ed75a30d",
   "metadata": {},
   "outputs": [],
   "source": [
    "my_string=\"my name is john\""
   ]
  },
  {
   "cell_type": "code",
   "execution_count": 13,
   "id": "9bebcc25",
   "metadata": {},
   "outputs": [
    {
     "data": {
      "text/plain": [
       "'my name is john'"
      ]
     },
     "execution_count": 13,
     "metadata": {},
     "output_type": "execute_result"
    }
   ],
   "source": [
    "my_string"
   ]
  },
  {
   "cell_type": "code",
   "execution_count": 14,
   "id": "fc60b048",
   "metadata": {},
   "outputs": [
    {
     "data": {
      "text/plain": [
       "'m'"
      ]
     },
     "execution_count": 14,
     "metadata": {},
     "output_type": "execute_result"
    }
   ],
   "source": [
    "my_string[0]"
   ]
  },
  {
   "cell_type": "code",
   "execution_count": 15,
   "id": "469f3ec8",
   "metadata": {},
   "outputs": [
    {
     "data": {
      "text/plain": [
       "'n'"
      ]
     },
     "execution_count": 15,
     "metadata": {},
     "output_type": "execute_result"
    }
   ],
   "source": [
    "my_string[-1]"
   ]
  },
  {
   "cell_type": "code",
   "execution_count": 16,
   "id": "25cc34a8",
   "metadata": {},
   "outputs": [
    {
     "data": {
      "text/plain": [
       "'m'"
      ]
     },
     "execution_count": 16,
     "metadata": {},
     "output_type": "execute_result"
    }
   ],
   "source": [
    "my_string[5]"
   ]
  },
  {
   "cell_type": "code",
   "execution_count": 17,
   "id": "b0a62a8c",
   "metadata": {},
   "outputs": [
    {
     "data": {
      "text/plain": [
       "'me is'"
      ]
     },
     "execution_count": 17,
     "metadata": {},
     "output_type": "execute_result"
    }
   ],
   "source": [
    "my_string[5:10]"
   ]
  },
  {
   "cell_type": "code",
   "execution_count": 18,
   "id": "2cd8765c",
   "metadata": {},
   "outputs": [],
   "source": [
    "#finding length of string"
   ]
  },
  {
   "cell_type": "code",
   "execution_count": 19,
   "id": "1dfea96d",
   "metadata": {},
   "outputs": [],
   "source": [
    "my_string=\"my name is john\""
   ]
  },
  {
   "cell_type": "code",
   "execution_count": 20,
   "id": "67212ba1",
   "metadata": {},
   "outputs": [
    {
     "data": {
      "text/plain": [
       "'my name is john'"
      ]
     },
     "execution_count": 20,
     "metadata": {},
     "output_type": "execute_result"
    }
   ],
   "source": [
    "my_string"
   ]
  },
  {
   "cell_type": "code",
   "execution_count": 22,
   "id": "056e0413",
   "metadata": {},
   "outputs": [
    {
     "data": {
      "text/plain": [
       "15"
      ]
     },
     "execution_count": 22,
     "metadata": {},
     "output_type": "execute_result"
    }
   ],
   "source": [
    "len(my_string)"
   ]
  },
  {
   "cell_type": "code",
   "execution_count": 24,
   "id": "49ab882b",
   "metadata": {},
   "outputs": [],
   "source": [
    "my_string=\"my name is john\""
   ]
  },
  {
   "cell_type": "code",
   "execution_count": 25,
   "id": "fd8b9d24",
   "metadata": {},
   "outputs": [
    {
     "data": {
      "text/plain": [
       "'my name is john'"
      ]
     },
     "execution_count": 25,
     "metadata": {},
     "output_type": "execute_result"
    }
   ],
   "source": [
    "my_string.lower()"
   ]
  },
  {
   "cell_type": "code",
   "execution_count": 26,
   "id": "b9a56231",
   "metadata": {},
   "outputs": [
    {
     "data": {
      "text/plain": [
       "'MY NAME IS JOHN'"
      ]
     },
     "execution_count": 26,
     "metadata": {},
     "output_type": "execute_result"
    }
   ],
   "source": [
    "my_string.upper()"
   ]
  },
  {
   "cell_type": "code",
   "execution_count": 27,
   "id": "70526dca",
   "metadata": {},
   "outputs": [],
   "source": [
    "#Replacing a substring"
   ]
  },
  {
   "cell_type": "code",
   "execution_count": 28,
   "id": "523891bb",
   "metadata": {},
   "outputs": [],
   "source": [
    "my_string=\"my name is john\""
   ]
  },
  {
   "cell_type": "code",
   "execution_count": 29,
   "id": "d6c9e154",
   "metadata": {},
   "outputs": [
    {
     "data": {
      "text/plain": [
       "'my name are john'"
      ]
     },
     "execution_count": 29,
     "metadata": {},
     "output_type": "execute_result"
    }
   ],
   "source": [
    "my_string.replace('is','are')"
   ]
  },
  {
   "cell_type": "code",
   "execution_count": 30,
   "id": "b10b991c",
   "metadata": {},
   "outputs": [],
   "source": [
    "str_new='sparta sparta 300 300 300 s'"
   ]
  },
  {
   "cell_type": "code",
   "execution_count": 31,
   "id": "a7c09dc1",
   "metadata": {},
   "outputs": [
    {
     "data": {
      "text/plain": [
       "'sparta sparta 300 300 300 s'"
      ]
     },
     "execution_count": 31,
     "metadata": {},
     "output_type": "execute_result"
    }
   ],
   "source": [
    "str_new"
   ]
  },
  {
   "cell_type": "code",
   "execution_count": 32,
   "id": "bac9d012",
   "metadata": {},
   "outputs": [
    {
     "data": {
      "text/plain": [
       "2"
      ]
     },
     "execution_count": 32,
     "metadata": {},
     "output_type": "execute_result"
    }
   ],
   "source": [
    "str_new.count('sparta')"
   ]
  },
  {
   "cell_type": "code",
   "execution_count": 33,
   "id": "fc2ead53",
   "metadata": {},
   "outputs": [
    {
     "data": {
      "text/plain": [
       "3"
      ]
     },
     "execution_count": 33,
     "metadata": {},
     "output_type": "execute_result"
    }
   ],
   "source": [
    "str_new.count('300')"
   ]
  },
  {
   "cell_type": "code",
   "execution_count": 34,
   "id": "012de981",
   "metadata": {},
   "outputs": [
    {
     "data": {
      "text/plain": [
       "3"
      ]
     },
     "execution_count": 34,
     "metadata": {},
     "output_type": "execute_result"
    }
   ],
   "source": [
    "str_new.count('s')"
   ]
  },
  {
   "cell_type": "code",
   "execution_count": 35,
   "id": "024ae963",
   "metadata": {},
   "outputs": [],
   "source": [
    "#finding the index value of substring\n"
   ]
  },
  {
   "cell_type": "code",
   "execution_count": 36,
   "id": "5d4e7062",
   "metadata": {},
   "outputs": [],
   "source": [
    "my_string='hello world is awesome'"
   ]
  },
  {
   "cell_type": "code",
   "execution_count": 37,
   "id": "6b196faf",
   "metadata": {},
   "outputs": [
    {
     "data": {
      "text/plain": [
       "12"
      ]
     },
     "execution_count": 37,
     "metadata": {},
     "output_type": "execute_result"
    }
   ],
   "source": [
    "my_string.find('i')"
   ]
  },
  {
   "cell_type": "code",
   "execution_count": 38,
   "id": "f113fbd3",
   "metadata": {},
   "outputs": [],
   "source": [
    "str_final='president obama is the best president of united states'"
   ]
  },
  {
   "cell_type": "code",
   "execution_count": 39,
   "id": "d44b9e42",
   "metadata": {},
   "outputs": [
    {
     "data": {
      "text/plain": [
       "'president obama is the best president of united states'"
      ]
     },
     "execution_count": 39,
     "metadata": {},
     "output_type": "execute_result"
    }
   ],
   "source": [
    "str_final"
   ]
  },
  {
   "cell_type": "code",
   "execution_count": 40,
   "id": "1ab25862",
   "metadata": {},
   "outputs": [
    {
     "data": {
      "text/plain": [
       "['pr',\n",
       " 'sid',\n",
       " 'nt obama is th',\n",
       " ' b',\n",
       " 'st pr',\n",
       " 'sid',\n",
       " 'nt of unit',\n",
       " 'd stat',\n",
       " 's']"
      ]
     },
     "execution_count": 40,
     "metadata": {},
     "output_type": "execute_result"
    }
   ],
   "source": [
    "str_final.split('e')"
   ]
  },
  {
   "cell_type": "code",
   "execution_count": 41,
   "id": "8384821a",
   "metadata": {},
   "outputs": [],
   "source": [
    "#Data Structure in Python( Tuple,List,Dictionary,Set)"
   ]
  },
  {
   "cell_type": "code",
   "execution_count": 42,
   "id": "e2bda54d",
   "metadata": {},
   "outputs": [],
   "source": [
    "#Tuple in Python"
   ]
  },
  {
   "cell_type": "code",
   "execution_count": 43,
   "id": "fe59d1f6",
   "metadata": {},
   "outputs": [],
   "source": [
    "tup1=(1,True,3.14,5-7j)"
   ]
  },
  {
   "cell_type": "code",
   "execution_count": 44,
   "id": "a17531d0",
   "metadata": {},
   "outputs": [
    {
     "data": {
      "text/plain": [
       "(1, True, 3.14, (5-7j))"
      ]
     },
     "execution_count": 44,
     "metadata": {},
     "output_type": "execute_result"
    }
   ],
   "source": [
    "tup1"
   ]
  },
  {
   "cell_type": "code",
   "execution_count": 46,
   "id": "a298dc3c",
   "metadata": {},
   "outputs": [
    {
     "data": {
      "text/plain": [
       "tuple"
      ]
     },
     "execution_count": 46,
     "metadata": {},
     "output_type": "execute_result"
    }
   ],
   "source": [
    "type(tup1)"
   ]
  },
  {
   "cell_type": "code",
   "execution_count": 47,
   "id": "9c00212a",
   "metadata": {},
   "outputs": [
    {
     "data": {
      "text/plain": [
       "1"
      ]
     },
     "execution_count": 47,
     "metadata": {},
     "output_type": "execute_result"
    }
   ],
   "source": [
    "tup1[0]"
   ]
  },
  {
   "cell_type": "code",
   "execution_count": 49,
   "id": "874f0d92",
   "metadata": {},
   "outputs": [
    {
     "data": {
      "text/plain": [
       "(5-7j)"
      ]
     },
     "execution_count": 49,
     "metadata": {},
     "output_type": "execute_result"
    }
   ],
   "source": [
    "tup1[-1]"
   ]
  },
  {
   "cell_type": "code",
   "execution_count": 50,
   "id": "4f1b8ff3",
   "metadata": {},
   "outputs": [
    {
     "data": {
      "text/plain": [
       "(5-7j)"
      ]
     },
     "execution_count": 50,
     "metadata": {},
     "output_type": "execute_result"
    }
   ],
   "source": [
    "tup1[3]"
   ]
  },
  {
   "cell_type": "code",
   "execution_count": 51,
   "id": "7be107e3",
   "metadata": {},
   "outputs": [
    {
     "data": {
      "text/plain": [
       "(1, True)"
      ]
     },
     "execution_count": 51,
     "metadata": {},
     "output_type": "execute_result"
    }
   ],
   "source": [
    "tup1[0:2]"
   ]
  },
  {
   "cell_type": "code",
   "execution_count": 53,
   "id": "033fdc17",
   "metadata": {},
   "outputs": [
    {
     "data": {
      "text/plain": [
       "4"
      ]
     },
     "execution_count": 53,
     "metadata": {},
     "output_type": "execute_result"
    }
   ],
   "source": [
    "len(tup1)"
   ]
  },
  {
   "cell_type": "code",
   "execution_count": 64,
   "id": "cee87422",
   "metadata": {},
   "outputs": [],
   "source": [
    "tup1=(1,2,3)\n",
    "tup2=(4,5,6)"
   ]
  },
  {
   "cell_type": "code",
   "execution_count": 56,
   "id": "679937a4",
   "metadata": {},
   "outputs": [
    {
     "data": {
      "text/plain": [
       "(1, 2, 3, 4, 5, 6)"
      ]
     },
     "execution_count": 56,
     "metadata": {},
     "output_type": "execute_result"
    }
   ],
   "source": [
    "tup1+tup2"
   ]
  },
  {
   "cell_type": "code",
   "execution_count": 57,
   "id": "e8ea9635",
   "metadata": {},
   "outputs": [
    {
     "data": {
      "text/plain": [
       "(4, 5, 6, 1, 2, 3)"
      ]
     },
     "execution_count": 57,
     "metadata": {},
     "output_type": "execute_result"
    }
   ],
   "source": [
    "tup2+tup1"
   ]
  },
  {
   "cell_type": "code",
   "execution_count": 58,
   "id": "80700747",
   "metadata": {},
   "outputs": [],
   "source": [
    "#Repeating tuple elements"
   ]
  },
  {
   "cell_type": "code",
   "execution_count": 65,
   "id": "cb1029ad",
   "metadata": {},
   "outputs": [
    {
     "data": {
      "text/plain": [
       "(4, 5, 6, 1, 2, 3)"
      ]
     },
     "execution_count": 65,
     "metadata": {},
     "output_type": "execute_result"
    }
   ],
   "source": [
    "tup2+tup1"
   ]
  },
  {
   "cell_type": "code",
   "execution_count": 66,
   "id": "9793607d",
   "metadata": {},
   "outputs": [
    {
     "data": {
      "text/plain": [
       "(1, 2, 3, 1, 2, 3, 1, 2, 3, 1, 2, 3, 1, 2, 3, 4, 5, 6)"
      ]
     },
     "execution_count": 66,
     "metadata": {},
     "output_type": "execute_result"
    }
   ],
   "source": [
    "tup1*5+tup2"
   ]
  },
  {
   "cell_type": "code",
   "execution_count": 67,
   "id": "7e786c3f",
   "metadata": {},
   "outputs": [],
   "source": [
    "#tuple min value"
   ]
  },
  {
   "cell_type": "code",
   "execution_count": 68,
   "id": "2e2ff043",
   "metadata": {},
   "outputs": [],
   "source": [
    "tup1=(10,20,30,40,50)\n"
   ]
  },
  {
   "cell_type": "code",
   "execution_count": 69,
   "id": "e8ee608f",
   "metadata": {},
   "outputs": [
    {
     "data": {
      "text/plain": [
       "10"
      ]
     },
     "execution_count": 69,
     "metadata": {},
     "output_type": "execute_result"
    }
   ],
   "source": [
    "min(tup1)"
   ]
  },
  {
   "cell_type": "code",
   "execution_count": 70,
   "id": "bde1d062",
   "metadata": {},
   "outputs": [
    {
     "data": {
      "text/plain": [
       "50"
      ]
     },
     "execution_count": 70,
     "metadata": {},
     "output_type": "execute_result"
    }
   ],
   "source": [
    "max(tup1)"
   ]
  },
  {
   "cell_type": "code",
   "execution_count": 71,
   "id": "12f734a2",
   "metadata": {},
   "outputs": [],
   "source": [
    "l1=[1,'sparta',3,14,True]"
   ]
  },
  {
   "cell_type": "code",
   "execution_count": 74,
   "id": "1bcda6e9",
   "metadata": {},
   "outputs": [
    {
     "data": {
      "text/plain": [
       "[1, 'sparta', 3, 14, True]"
      ]
     },
     "execution_count": 74,
     "metadata": {},
     "output_type": "execute_result"
    }
   ],
   "source": [
    "l1\n"
   ]
  },
  {
   "cell_type": "code",
   "execution_count": 75,
   "id": "f91a869f",
   "metadata": {},
   "outputs": [
    {
     "data": {
      "text/plain": [
       "list"
      ]
     },
     "execution_count": 75,
     "metadata": {},
     "output_type": "execute_result"
    }
   ],
   "source": [
    "type(l1\n",
    "    )"
   ]
  },
  {
   "cell_type": "code",
   "execution_count": 76,
   "id": "3d0c0e33",
   "metadata": {},
   "outputs": [
    {
     "data": {
      "text/plain": [
       "1"
      ]
     },
     "execution_count": 76,
     "metadata": {},
     "output_type": "execute_result"
    }
   ],
   "source": [
    "l1[0]"
   ]
  },
  {
   "cell_type": "code",
   "execution_count": 77,
   "id": "0635cd2e",
   "metadata": {},
   "outputs": [
    {
     "data": {
      "text/plain": [
       "True"
      ]
     },
     "execution_count": 77,
     "metadata": {},
     "output_type": "execute_result"
    }
   ],
   "source": [
    "l1[-1]"
   ]
  },
  {
   "cell_type": "code",
   "execution_count": 78,
   "id": "fed68d2a",
   "metadata": {},
   "outputs": [
    {
     "data": {
      "text/plain": [
       "[1, 'sparta', 3, 14, True]"
      ]
     },
     "execution_count": 78,
     "metadata": {},
     "output_type": "execute_result"
    }
   ],
   "source": [
    "l1"
   ]
  },
  {
   "cell_type": "code",
   "execution_count": 81,
   "id": "2448f686",
   "metadata": {},
   "outputs": [
    {
     "data": {
      "text/plain": [
       "[100, 'sparta', 3, 14, True]"
      ]
     },
     "execution_count": 81,
     "metadata": {},
     "output_type": "execute_result"
    }
   ],
   "source": [
    "l1"
   ]
  },
  {
   "cell_type": "code",
   "execution_count": 82,
   "id": "890c021d",
   "metadata": {},
   "outputs": [],
   "source": [
    "l1=['435',12,90,23,True,False]"
   ]
  },
  {
   "cell_type": "code",
   "execution_count": 83,
   "id": "98b3eedd",
   "metadata": {},
   "outputs": [
    {
     "data": {
      "text/plain": [
       "['435', 12, 90, 23, True, False]"
      ]
     },
     "execution_count": 83,
     "metadata": {},
     "output_type": "execute_result"
    }
   ],
   "source": [
    "l1\n"
   ]
  },
  {
   "cell_type": "code",
   "execution_count": 84,
   "id": "b99d9805",
   "metadata": {},
   "outputs": [],
   "source": [
    "l1.reverse()"
   ]
  },
  {
   "cell_type": "code",
   "execution_count": 85,
   "id": "4345c241",
   "metadata": {},
   "outputs": [
    {
     "data": {
      "text/plain": [
       "[False, True, 23, 90, 12, '435']"
      ]
     },
     "execution_count": 85,
     "metadata": {},
     "output_type": "execute_result"
    }
   ],
   "source": [
    "l1\n"
   ]
  },
  {
   "cell_type": "markdown",
   "id": "8102a682",
   "metadata": {},
   "source": [
    "# Dictionary in Python"
   ]
  },
  {
   "cell_type": "code",
   "execution_count": 91,
   "id": "4f43386a",
   "metadata": {},
   "outputs": [],
   "source": [
    "d1={'Apple':50,'Mango':100,'Guava':200,'Banana':400}"
   ]
  },
  {
   "cell_type": "code",
   "execution_count": 92,
   "id": "f4020f4b",
   "metadata": {},
   "outputs": [
    {
     "data": {
      "text/plain": [
       "{'Apple': 50, 'Mango': 100, 'Guava': 200, 'Banana': 400}"
      ]
     },
     "execution_count": 92,
     "metadata": {},
     "output_type": "execute_result"
    }
   ],
   "source": [
    "d1\n"
   ]
  },
  {
   "cell_type": "code",
   "execution_count": 93,
   "id": "8d47d8d0",
   "metadata": {},
   "outputs": [
    {
     "data": {
      "text/plain": [
       "dict"
      ]
     },
     "execution_count": 93,
     "metadata": {},
     "output_type": "execute_result"
    }
   ],
   "source": [
    "type(d1)"
   ]
  },
  {
   "cell_type": "code",
   "execution_count": 94,
   "id": "c9c5f6ca",
   "metadata": {},
   "outputs": [
    {
     "data": {
      "text/plain": [
       "dict_keys(['Apple', 'Mango', 'Guava', 'Banana'])"
      ]
     },
     "execution_count": 94,
     "metadata": {},
     "output_type": "execute_result"
    }
   ],
   "source": [
    "d1.keys()"
   ]
  },
  {
   "cell_type": "code",
   "execution_count": 95,
   "id": "0f8865ad",
   "metadata": {},
   "outputs": [
    {
     "data": {
      "text/plain": [
       "dict_values([50, 100, 200, 400])"
      ]
     },
     "execution_count": 95,
     "metadata": {},
     "output_type": "execute_result"
    }
   ],
   "source": [
    "d1.values()"
   ]
  },
  {
   "cell_type": "code",
   "execution_count": 96,
   "id": "d36354a6",
   "metadata": {},
   "outputs": [
    {
     "data": {
      "text/plain": [
       "{'Apple': 50, 'Mango': 100, 'Guava': 200, 'Banana': 400}"
      ]
     },
     "execution_count": 96,
     "metadata": {},
     "output_type": "execute_result"
    }
   ],
   "source": [
    "d1"
   ]
  },
  {
   "cell_type": "code",
   "execution_count": 97,
   "id": "34a6136b",
   "metadata": {},
   "outputs": [],
   "source": [
    "d1['Orange']=5"
   ]
  },
  {
   "cell_type": "code",
   "execution_count": 98,
   "id": "5808fc8b",
   "metadata": {},
   "outputs": [
    {
     "data": {
      "text/plain": [
       "{'Apple': 50, 'Mango': 100, 'Guava': 200, 'Banana': 400, 'Orange': 5}"
      ]
     },
     "execution_count": 98,
     "metadata": {},
     "output_type": "execute_result"
    }
   ],
   "source": [
    "d1"
   ]
  },
  {
   "cell_type": "code",
   "execution_count": 99,
   "id": "0dcff041",
   "metadata": {},
   "outputs": [],
   "source": [
    "d1['Banana']=1"
   ]
  },
  {
   "cell_type": "code",
   "execution_count": 100,
   "id": "18d18ad9",
   "metadata": {},
   "outputs": [
    {
     "data": {
      "text/plain": [
       "{'Apple': 50, 'Mango': 100, 'Guava': 200, 'Banana': 1, 'Orange': 5}"
      ]
     },
     "execution_count": 100,
     "metadata": {},
     "output_type": "execute_result"
    }
   ],
   "source": [
    "d1"
   ]
  },
  {
   "cell_type": "code",
   "execution_count": 101,
   "id": "448b2562",
   "metadata": {},
   "outputs": [
    {
     "data": {
      "text/plain": [
       "{'Apple': 50, 'Mango': 100, 'Guava': 200, 'Banana': 1, 'Orange': 5}"
      ]
     },
     "execution_count": 101,
     "metadata": {},
     "output_type": "execute_result"
    }
   ],
   "source": [
    "d1"
   ]
  },
  {
   "cell_type": "code",
   "execution_count": 102,
   "id": "f77b35f8",
   "metadata": {},
   "outputs": [],
   "source": [
    "d2={'watermelon':100,'Grappes':50,'muskmeloon':850}"
   ]
  },
  {
   "cell_type": "code",
   "execution_count": 103,
   "id": "ea6c20cb",
   "metadata": {},
   "outputs": [
    {
     "data": {
      "text/plain": [
       "{'watermelon': 100, 'Grappes': 50, 'muskmeloon': 850}"
      ]
     },
     "execution_count": 103,
     "metadata": {},
     "output_type": "execute_result"
    }
   ],
   "source": [
    "d2"
   ]
  },
  {
   "cell_type": "code",
   "execution_count": 104,
   "id": "179f877a",
   "metadata": {},
   "outputs": [],
   "source": [
    "d1.update(d2)"
   ]
  },
  {
   "cell_type": "code",
   "execution_count": 105,
   "id": "e6678ed8",
   "metadata": {},
   "outputs": [
    {
     "data": {
      "text/plain": [
       "{'Apple': 50,\n",
       " 'Mango': 100,\n",
       " 'Guava': 200,\n",
       " 'Banana': 1,\n",
       " 'Orange': 5,\n",
       " 'watermelon': 100,\n",
       " 'Grappes': 50,\n",
       " 'muskmeloon': 850}"
      ]
     },
     "execution_count": 105,
     "metadata": {},
     "output_type": "execute_result"
    }
   ],
   "source": [
    "d1"
   ]
  },
  {
   "cell_type": "code",
   "execution_count": 106,
   "id": "f55bfb27",
   "metadata": {},
   "outputs": [
    {
     "data": {
      "text/plain": [
       "100"
      ]
     },
     "execution_count": 106,
     "metadata": {},
     "output_type": "execute_result"
    }
   ],
   "source": [
    "d1.pop('watermelon')"
   ]
  },
  {
   "cell_type": "code",
   "execution_count": 107,
   "id": "463933f1",
   "metadata": {},
   "outputs": [
    {
     "data": {
      "text/plain": [
       "{'Apple': 50,\n",
       " 'Mango': 100,\n",
       " 'Guava': 200,\n",
       " 'Banana': 1,\n",
       " 'Orange': 5,\n",
       " 'Grappes': 50,\n",
       " 'muskmeloon': 850}"
      ]
     },
     "execution_count": 107,
     "metadata": {},
     "output_type": "execute_result"
    }
   ],
   "source": [
    "d1"
   ]
  },
  {
   "cell_type": "code",
   "execution_count": 108,
   "id": "d0f07d8c",
   "metadata": {},
   "outputs": [],
   "source": [
    "s1={1,3.14,'sparta'}"
   ]
  },
  {
   "cell_type": "code",
   "execution_count": 109,
   "id": "638f937d",
   "metadata": {},
   "outputs": [
    {
     "data": {
      "text/plain": [
       "{1, 3.14, 'sparta'}"
      ]
     },
     "execution_count": 109,
     "metadata": {},
     "output_type": "execute_result"
    }
   ],
   "source": [
    "s1"
   ]
  },
  {
   "cell_type": "code",
   "execution_count": 110,
   "id": "16728064",
   "metadata": {},
   "outputs": [],
   "source": [
    "s1={1,3.14,'sparta',3.14,'sparta'}"
   ]
  },
  {
   "cell_type": "code",
   "execution_count": 111,
   "id": "293e47f5",
   "metadata": {},
   "outputs": [
    {
     "data": {
      "text/plain": [
       "{1, 3.14, 'sparta'}"
      ]
     },
     "execution_count": 111,
     "metadata": {},
     "output_type": "execute_result"
    }
   ],
   "source": [
    "s1"
   ]
  },
  {
   "cell_type": "code",
   "execution_count": 112,
   "id": "284708f5",
   "metadata": {},
   "outputs": [
    {
     "data": {
      "text/plain": [
       "{1, 3.14, 'sparta'}"
      ]
     },
     "execution_count": 112,
     "metadata": {},
     "output_type": "execute_result"
    }
   ],
   "source": [
    "\n",
    "s1={1,3.14,'sparta',3.14,'sparta'}\n",
    "s1"
   ]
  },
  {
   "cell_type": "code",
   "execution_count": 114,
   "id": "57073b72",
   "metadata": {},
   "outputs": [],
   "source": [
    "s1.add(False)"
   ]
  },
  {
   "cell_type": "code",
   "execution_count": 115,
   "id": "552103bc",
   "metadata": {},
   "outputs": [
    {
     "data": {
      "text/plain": [
       "{1, 3.14, False, 'sparta'}"
      ]
     },
     "execution_count": 115,
     "metadata": {},
     "output_type": "execute_result"
    }
   ],
   "source": [
    "s1"
   ]
  },
  {
   "cell_type": "code",
   "execution_count": 116,
   "id": "01417791",
   "metadata": {},
   "outputs": [],
   "source": [
    "s1.update([2,5,7])\n"
   ]
  },
  {
   "cell_type": "code",
   "execution_count": 117,
   "id": "d1fbbe95",
   "metadata": {},
   "outputs": [
    {
     "data": {
      "text/plain": [
       "{1, 2, 3.14, 5, 7, False, 'sparta'}"
      ]
     },
     "execution_count": 117,
     "metadata": {},
     "output_type": "execute_result"
    }
   ],
   "source": [
    "s1"
   ]
  },
  {
   "cell_type": "code",
   "execution_count": 118,
   "id": "3a550740",
   "metadata": {},
   "outputs": [],
   "source": [
    "s1.remove(7)"
   ]
  },
  {
   "cell_type": "code",
   "execution_count": 119,
   "id": "dc5a3322",
   "metadata": {},
   "outputs": [
    {
     "data": {
      "text/plain": [
       "{1, 2, 3.14, 5, False, 'sparta'}"
      ]
     },
     "execution_count": 119,
     "metadata": {},
     "output_type": "execute_result"
    }
   ],
   "source": [
    "s1"
   ]
  },
  {
   "cell_type": "code",
   "execution_count": 121,
   "id": "f9df3e3e",
   "metadata": {},
   "outputs": [],
   "source": [
    "s1={1,2,3,4,5}\n",
    "s2={6,7,8,9,5}"
   ]
  },
  {
   "cell_type": "code",
   "execution_count": 122,
   "id": "5c274655",
   "metadata": {},
   "outputs": [
    {
     "data": {
      "text/plain": [
       "{1, 2, 3, 4, 5, 6, 7, 8, 9}"
      ]
     },
     "execution_count": 122,
     "metadata": {},
     "output_type": "execute_result"
    }
   ],
   "source": [
    "s1.union(s2)"
   ]
  },
  {
   "cell_type": "code",
   "execution_count": 123,
   "id": "5c86c499",
   "metadata": {},
   "outputs": [
    {
     "data": {
      "text/plain": [
       "{5}"
      ]
     },
     "execution_count": 123,
     "metadata": {},
     "output_type": "execute_result"
    }
   ],
   "source": [
    "s1.intersection(s2)"
   ]
  },
  {
   "cell_type": "code",
   "execution_count": 124,
   "id": "46a726bf",
   "metadata": {},
   "outputs": [],
   "source": [
    "a=10"
   ]
  },
  {
   "cell_type": "code",
   "execution_count": 125,
   "id": "ac613968",
   "metadata": {},
   "outputs": [],
   "source": [
    "b=20"
   ]
  },
  {
   "cell_type": "code",
   "execution_count": 133,
   "id": "c4685e8e",
   "metadata": {},
   "outputs": [
    {
     "name": "stdout",
     "output_type": "stream",
     "text": [
      "b is gteater than a\n"
     ]
    }
   ],
   "source": [
    "if b>a:\n",
    "    print(\"b is gteater than a\")"
   ]
  },
  {
   "cell_type": "code",
   "execution_count": 134,
   "id": "8d8d9bab",
   "metadata": {},
   "outputs": [
    {
     "name": "stdout",
     "output_type": "stream",
     "text": [
      "a is less then b\n"
     ]
    }
   ],
   "source": [
    "if a<b:\n",
    "    print(\"a is less then b\")"
   ]
  },
  {
   "cell_type": "code",
   "execution_count": null,
   "id": "f6c15ed4",
   "metadata": {},
   "outputs": [],
   "source": []
  }
 ],
 "metadata": {
  "kernelspec": {
   "display_name": "Python 3 (ipykernel)",
   "language": "python",
   "name": "python3"
  },
  "language_info": {
   "codemirror_mode": {
    "name": "ipython",
    "version": 3
   },
   "file_extension": ".py",
   "mimetype": "text/x-python",
   "name": "python",
   "nbconvert_exporter": "python",
   "pygments_lexer": "ipython3",
   "version": "3.9.12"
  }
 },
 "nbformat": 4,
 "nbformat_minor": 5
}
